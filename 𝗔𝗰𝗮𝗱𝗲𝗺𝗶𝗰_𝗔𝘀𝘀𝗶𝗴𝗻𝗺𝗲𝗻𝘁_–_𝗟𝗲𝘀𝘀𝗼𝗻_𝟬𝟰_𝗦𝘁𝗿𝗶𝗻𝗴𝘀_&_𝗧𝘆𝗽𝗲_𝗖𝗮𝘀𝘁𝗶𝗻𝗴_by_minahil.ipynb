{
  "nbformat": 4,
  "nbformat_minor": 0,
  "metadata": {
    "colab": {
      "provenance": []
    },
    "kernelspec": {
      "name": "python3",
      "display_name": "Python 3"
    },
    "language_info": {
      "name": "python"
    }
  },
  "cells": [
    {
      "cell_type": "code",
      "execution_count": null,
      "metadata": {
        "colab": {
          "base_uri": "https://localhost:8080/"
        },
        "id": "1Kf-tVeROD7I",
        "outputId": "3e991a39-e20d-459f-a3ff-dbb2eac5c783"
      },
      "outputs": [
        {
          "output_type": "stream",
          "name": "stdout",
          "text": [
            "m\n",
            "i\n",
            "n\n",
            "a\n",
            "h\n",
            "i\n",
            "l\n"
          ]
        }
      ],
      "source": [
        "name=\"minahil\"\n",
        "for character in name:\n",
        "  print(character)"
      ]
    },
    {
      "cell_type": "markdown",
      "source": [
        "2- Use slicing to print the first 4 characters of a string."
      ],
      "metadata": {
        "id": "fFAx6twhLq8V"
      }
    },
    {
      "cell_type": "code",
      "source": [
        "my_string=\"artificial intelligence\"\n",
        "print(\"my_string=\",my_string[0:4])"
      ],
      "metadata": {
        "colab": {
          "base_uri": "https://localhost:8080/"
        },
        "id": "JiR_btlDLtIX",
        "outputId": "0c812a05-4e48-4f01-c7a0-55d3b2494ab3"
      },
      "execution_count": null,
      "outputs": [
        {
          "output_type": "stream",
          "name": "stdout",
          "text": [
            "my_string= arti\n"
          ]
        }
      ]
    },
    {
      "cell_type": "markdown",
      "source": [
        "3-Ask the user to input a number as a string, convert it to int, add 10, and print the result."
      ],
      "metadata": {
        "id": "nYqevoc1NGFo"
      }
    },
    {
      "cell_type": "code",
      "source": [
        "num= \"50\"\n",
        "result=int(num)+10\n",
        "print(result)\n",
        "\n"
      ],
      "metadata": {
        "colab": {
          "base_uri": "https://localhost:8080/"
        },
        "id": "vGfM9r_yNKyp",
        "outputId": "83c18d58-1ffd-49a2-c279-8a21ea7c6b7c"
      },
      "execution_count": null,
      "outputs": [
        {
          "output_type": "stream",
          "name": "stdout",
          "text": [
            "60\n"
          ]
        }
      ]
    },
    {
      "cell_type": "markdown",
      "source": [
        "4- Create a list of string numbers like [\"10\", \"20\", \"30\"], convert to int, and print updated list."
      ],
      "metadata": {
        "id": "x9C2w1g4UNBQ"
      }
    },
    {
      "cell_type": "code",
      "source": [
        "my_list=[\"10\",\"20\",\"30\"]\n",
        "result=[int(x)for x in my_list]\n",
        "print(result)"
      ],
      "metadata": {
        "colab": {
          "base_uri": "https://localhost:8080/"
        },
        "id": "IrYfQ-UQUOYK",
        "outputId": "36ec9677-24f9-4fa4-88ce-1ee9f45da4a7"
      },
      "execution_count": null,
      "outputs": [
        {
          "output_type": "stream",
          "name": "stdout",
          "text": [
            "[10, 20, 30]\n"
          ]
        }
      ]
    },
    {
      "cell_type": "markdown",
      "source": [
        "5- Check if \"Python\" is in a string using in and print a message."
      ],
      "metadata": {
        "id": "ej1tfSr-WiB9"
      }
    },
    {
      "cell_type": "code",
      "source": [
        "text = \"I am learning Python programming\"\n",
        "if \"Python\" in text:\n",
        "    print(\"Yes, 'Python' is in the string!\")\n",
        "else:\n",
        "    print(\"'Python' is not in the string.\")"
      ],
      "metadata": {
        "colab": {
          "base_uri": "https://localhost:8080/"
        },
        "id": "iXbjhswKWj-_",
        "outputId": "866dbdf8-397a-4336-aa96-3ebc50bf4d2f"
      },
      "execution_count": null,
      "outputs": [
        {
          "output_type": "stream",
          "name": "stdout",
          "text": [
            "Yes, 'Python' is in the string!\n"
          ]
        }
      ]
    },
    {
      "cell_type": "markdown",
      "source": [
        "6-Create a string, convert it to uppercase, lowercase, and title case."
      ],
      "metadata": {
        "id": "9gOAhwP5YYwp"
      }
    },
    {
      "cell_type": "code",
      "source": [
        "my_string=\"hello world\"\n",
        "print(my_string.upper())\n",
        "print(my_string.lower())\n",
        "print(my_string.title())"
      ],
      "metadata": {
        "colab": {
          "base_uri": "https://localhost:8080/"
        },
        "id": "0XiMEAm5YaXS",
        "outputId": "6c128680-bba9-4d06-ae7a-1c3f790077e4"
      },
      "execution_count": null,
      "outputs": [
        {
          "output_type": "stream",
          "name": "stdout",
          "text": [
            "HELLO WORLD\n",
            "hello world\n",
            "Hello World\n"
          ]
        }
      ]
    },
    {
      "cell_type": "markdown",
      "source": [
        "7-Use type() to display data types before and after casting from string to integer."
      ],
      "metadata": {
        "id": "x9qmE_f_aENy"
      }
    },
    {
      "cell_type": "code",
      "source": [
        "my_string = \"123\"\n",
        "print(\"Before casting:\", my_string)\n",
        "print(\"Type before casting:\", type(my_string))\n",
        "my_int = int(my_string)\n",
        "print(\"After casting:\", my_int)\n",
        "print(\"Type after casting:\", type(my_int))"
      ],
      "metadata": {
        "colab": {
          "base_uri": "https://localhost:8080/"
        },
        "id": "kMtnoZf7aHyI",
        "outputId": "2d218bdc-ce5b-41d0-d418-a0758bd93ecd"
      },
      "execution_count": null,
      "outputs": [
        {
          "output_type": "stream",
          "name": "stdout",
          "text": [
            "Before casting: 123\n",
            "Type before casting: <class 'str'>\n",
            "After casting: 123\n",
            "Type after casting: <class 'int'>\n"
          ]
        }
      ]
    },
    {
      "cell_type": "markdown",
      "source": [
        "8- Take user input for name and age. Check if age (casted to int) is above 18 and print eligibility."
      ],
      "metadata": {
        "id": "UGg_-VPva5wv"
      }
    },
    {
      "cell_type": "code",
      "source": [
        "\n",
        "name = \"minahil \"\n",
        "age = \"19\"\n",
        "age = int(age)\n",
        "if age > 18:\n",
        "    print(f\"{name}, you are eligible.\")\n",
        "else:\n",
        "    print(f\"{name}, you are not eligible.\")"
      ],
      "metadata": {
        "colab": {
          "base_uri": "https://localhost:8080/"
        },
        "id": "c_RWeO4Ea7OF",
        "outputId": "9fef2a0e-e071-403f-83c3-cbe206c7448d"
      },
      "execution_count": null,
      "outputs": [
        {
          "output_type": "stream",
          "name": "stdout",
          "text": [
            "minahil , you are eligible.\n"
          ]
        }
      ]
    },
    {
      "cell_type": "markdown",
      "source": [
        "9-Create a variable with mixed-case text. Check if the text is uppercase and print results."
      ],
      "metadata": {
        "id": "1wLwGoGQbyjn"
      }
    },
    {
      "cell_type": "code",
      "source": [
        "my_text=\"Hello World\"\n",
        "is_upper= my_text.isupper()\n",
        "print(\"is the text uppercase?\", is_upper)"
      ],
      "metadata": {
        "colab": {
          "base_uri": "https://localhost:8080/"
        },
        "id": "wmETVbnfb0Be",
        "outputId": "f3273504-b84d-4287-96a5-98e6259cfa46"
      },
      "execution_count": null,
      "outputs": [
        {
          "output_type": "stream",
          "name": "stdout",
          "text": [
            "is the text uppercase? False\n"
          ]
        }
      ]
    },
    {
      "cell_type": "markdown",
      "source": [
        "10- Create a string with numbers, convert it to float and int, and print all conversions with their types."
      ],
      "metadata": {
        "id": "biM_DlmXdbT4"
      }
    },
    {
      "cell_type": "code",
      "source": [
        "num_str = \"2435\"\n",
        "num_float = float(num_str)\n",
        "num_int = int(num_float)\n",
        "print(\"Converted to float:\", num_float, \", Type:\", type(num_float))\n",
        "print(\"Converted to int:\", num_int, \", Type:\", type(num_int))"
      ],
      "metadata": {
        "colab": {
          "base_uri": "https://localhost:8080/"
        },
        "id": "f0QesDxFvtqj",
        "outputId": "57e4febe-7e62-4745-870e-3fccf8e47af2"
      },
      "execution_count": null,
      "outputs": [
        {
          "output_type": "stream",
          "name": "stdout",
          "text": [
            "Converted to float: 2435.0 , Type: <class 'float'>\n",
            "Converted to int: 2435 , Type: <class 'int'>\n"
          ]
        }
      ]
    }
  ]
}