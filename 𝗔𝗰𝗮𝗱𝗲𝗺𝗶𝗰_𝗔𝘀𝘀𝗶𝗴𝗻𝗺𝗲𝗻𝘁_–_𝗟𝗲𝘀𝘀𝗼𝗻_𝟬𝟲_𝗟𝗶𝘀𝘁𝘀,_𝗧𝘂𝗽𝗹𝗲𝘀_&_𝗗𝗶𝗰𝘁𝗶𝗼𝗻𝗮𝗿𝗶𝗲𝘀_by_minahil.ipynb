{
  "nbformat": 4,
  "nbformat_minor": 0,
  "metadata": {
    "colab": {
      "provenance": []
    },
    "kernelspec": {
      "name": "python3",
      "display_name": "Python 3"
    },
    "language_info": {
      "name": "python"
    }
  },
  "cells": [
    {
      "cell_type": "markdown",
      "source": [
        "1- Create a list of 5 favorite fruits and print each using a loop"
      ],
      "metadata": {
        "id": "D6TKuhRSZ7nF"
      }
    },
    {
      "cell_type": "code",
      "source": [
        "fruits=[\"apple\",\"banana\",\"cherry\",\"watermelon\",\"mango\"]\n",
        "for fruit in fruits:\n",
        "    print(fruit)"
      ],
      "metadata": {
        "colab": {
          "base_uri": "https://localhost:8080/"
        },
        "id": "qQ3XHZVGapYq",
        "outputId": "b1c2baaf-ad99-466f-d23f-acb63f9fadff"
      },
      "execution_count": 7,
      "outputs": [
        {
          "output_type": "stream",
          "name": "stdout",
          "text": [
            "apple\n",
            "banana\n",
            "cherry\n",
            "watermelon\n",
            "mango\n"
          ]
        }
      ]
    },
    {
      "cell_type": "markdown",
      "source": [
        "2-Create a tuple with 3 items: name, age, and city. Access and print each."
      ],
      "metadata": {
        "id": "MdHqFUAlbfXf"
      }
    },
    {
      "cell_type": "code",
      "source": [
        "a=(\"minahil\",\"19\",\"karachi\")\n",
        "print(a[0])\n",
        "print(a[1])\n",
        "print(a[2])\n"
      ],
      "metadata": {
        "colab": {
          "base_uri": "https://localhost:8080/"
        },
        "id": "q8m9H9fKb7_I",
        "outputId": "be82d3bb-2225-4719-d115-4d1266262cb1"
      },
      "execution_count": 10,
      "outputs": [
        {
          "output_type": "stream",
          "name": "stdout",
          "text": [
            "minahil\n",
            "19\n",
            "karachi\n"
          ]
        }
      ]
    },
    {
      "cell_type": "markdown",
      "source": [
        "3-Make a dictionary with student name, class, and score. Print keys and values"
      ],
      "metadata": {
        "id": "b9Ozx7RTc9WA"
      }
    },
    {
      "cell_type": "code",
      "source": [
        "my_dict={\"student name\":\"ali\",\"class\":\"9th\",\"score\":\"90\"}\n",
        "print(my_dict.keys())\n",
        "print(my_dict.values())"
      ],
      "metadata": {
        "colab": {
          "base_uri": "https://localhost:8080/"
        },
        "id": "1mJjiCjmdH2u",
        "outputId": "e89f8006-d5c4-4d34-efec-e78d3f289802"
      },
      "execution_count": 11,
      "outputs": [
        {
          "output_type": "stream",
          "name": "stdout",
          "text": [
            "dict_keys(['student name', 'class', 'score'])\n",
            "dict_values(['ali', '9th', '90'])\n"
          ]
        }
      ]
    },
    {
      "cell_type": "markdown",
      "source": [
        "4-Update the list by adding and removing items. Print the updated list"
      ],
      "metadata": {
        "id": "UVnRmqUod4aK"
      }
    },
    {
      "cell_type": "code",
      "source": [
        "my_list=[1,2,3,4,5]\n",
        "my_list.append(6)\n",
        "my_list.remove(3)\n",
        "print(my_list)"
      ],
      "metadata": {
        "colab": {
          "base_uri": "https://localhost:8080/"
        },
        "id": "zTauZoATgUoe",
        "outputId": "3d0aafab-6df5-4ce0-928d-c8ca92deab64"
      },
      "execution_count": 12,
      "outputs": [
        {
          "output_type": "stream",
          "name": "stdout",
          "text": [
            "[1, 2, 4, 5, 6]\n"
          ]
        }
      ]
    },
    {
      "cell_type": "markdown",
      "source": [
        "5-Use a loop to count items in the list and print using len()"
      ],
      "metadata": {
        "id": "Jq-xj_Npgqp_"
      }
    },
    {
      "cell_type": "code",
      "source": [
        "my_list=[1,2,3,4,5]\n",
        "count=len(my_list)\n",
        "print(count)"
      ],
      "metadata": {
        "colab": {
          "base_uri": "https://localhost:8080/"
        },
        "id": "1rTdCO4ogzrx",
        "outputId": "46253442-ede0-4e50-9422-e2fcaf738af8"
      },
      "execution_count": 14,
      "outputs": [
        {
          "output_type": "stream",
          "name": "stdout",
          "text": [
            "5\n"
          ]
        }
      ]
    },
    {
      "cell_type": "markdown",
      "source": [
        "6-Check if a value exists in a tuple using in keyword"
      ],
      "metadata": {
        "id": "X6Jr93PdhOys"
      }
    },
    {
      "cell_type": "code",
      "source": [
        "my_tuple=(1,2,3,4,5)\n",
        "if 3 in my_tuple:\n",
        "    print(\"3 is in the tuple\")\n",
        "else:\n",
        "    print(\"3 is not in the tuple\")"
      ],
      "metadata": {
        "colab": {
          "base_uri": "https://localhost:8080/"
        },
        "id": "ZoHMBCovhUt8",
        "outputId": "cb335ea2-2237-49a6-8b8c-ef29a6e46aa8"
      },
      "execution_count": 15,
      "outputs": [
        {
          "output_type": "stream",
          "name": "stdout",
          "text": [
            "3 is in the tuple\n"
          ]
        }
      ]
    },
    {
      "cell_type": "markdown",
      "source": [
        "7-Add a new key-value pair to your dictionary and print the result"
      ],
      "metadata": {
        "id": "H-5EwBrmhhEA"
      }
    },
    {
      "cell_type": "code",
      "source": [
        "my_dict={\"name\":\"lali\",\"age\":20}\n",
        "my_dict[\"city\"]=\"karachi\"\n",
        "print(my_dict)"
      ],
      "metadata": {
        "colab": {
          "base_uri": "https://localhost:8080/"
        },
        "id": "Uwqc30iWhmNh",
        "outputId": "5315136d-2a92-426e-988d-3e293732d3ea"
      },
      "execution_count": 17,
      "outputs": [
        {
          "output_type": "stream",
          "name": "stdout",
          "text": [
            "{'name': 'lali', 'age': 20, 'city': 'karachi'}\n"
          ]
        }
      ]
    },
    {
      "cell_type": "markdown",
      "source": [
        "8-Write a program that converts a list to a tuple and prints both"
      ],
      "metadata": {
        "id": "omfVJmBDiG23"
      }
    },
    {
      "cell_type": "code",
      "source": [
        "my_list=[1,2,3,4,5]\n",
        "my_tuple=tuple(my_list)\n",
        "print(my_list)\n",
        "print(my_tuple)"
      ],
      "metadata": {
        "colab": {
          "base_uri": "https://localhost:8080/"
        },
        "id": "CPYtPJfIiLv7",
        "outputId": "67d4bdb8-e1e7-44a4-e9ac-48283d3a65d6"
      },
      "execution_count": 21,
      "outputs": [
        {
          "output_type": "stream",
          "name": "stdout",
          "text": [
            "[1, 2, 3, 4, 5]\n",
            "(1, 2, 3, 4, 5)\n"
          ]
        }
      ]
    },
    {
      "cell_type": "markdown",
      "source": [
        "9- Create a dictionary of 3 students with marks. Print names who scored > 80"
      ],
      "metadata": {
        "id": "9NbXGmLoif2J"
      }
    },
    {
      "cell_type": "code",
      "source": [
        "my_dict={\"ali\":90,\"lali\":80,\"minahil\":70}\n",
        "for name,marks in my_dict.items():\n",
        "    if marks>80:\n",
        "        print(name)"
      ],
      "metadata": {
        "colab": {
          "base_uri": "https://localhost:8080/"
        },
        "id": "LQTwR2tmik6x",
        "outputId": "0e0bf547-5f99-4fd2-95e2-9d992fddb130"
      },
      "execution_count": 22,
      "outputs": [
        {
          "output_type": "stream",
          "name": "stdout",
          "text": [
            "ali\n"
          ]
        }
      ]
    },
    {
      "cell_type": "markdown",
      "source": [
        "10-Create a tuple of mixed data. Loop through it and print type of each item"
      ],
      "metadata": {
        "id": "OSNSOlFOjqPN"
      }
    },
    {
      "cell_type": "code",
      "source": [
        "my_tuple=(\"minahil\",16,20.5)\n",
        "for i in my_tuple:\n",
        "  print(type(i))\n",
        "  print(i)"
      ],
      "metadata": {
        "colab": {
          "base_uri": "https://localhost:8080/"
        },
        "id": "Yf7mCBd1ju4K",
        "outputId": "0e58a000-b861-4cf9-d6b1-b145c1bf883d"
      },
      "execution_count": 30,
      "outputs": [
        {
          "output_type": "stream",
          "name": "stdout",
          "text": [
            "<class 'str'>\n",
            "minahil\n",
            "<class 'int'>\n",
            "16\n",
            "<class 'float'>\n",
            "20.5\n"
          ]
        }
      ]
    }
  ]
}