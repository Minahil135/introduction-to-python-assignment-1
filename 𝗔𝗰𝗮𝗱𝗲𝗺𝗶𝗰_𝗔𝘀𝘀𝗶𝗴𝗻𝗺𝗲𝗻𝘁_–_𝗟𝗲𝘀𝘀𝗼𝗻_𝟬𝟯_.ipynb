{
  "nbformat": 4,
  "nbformat_minor": 0,
  "metadata": {
    "colab": {
      "provenance": []
    },
    "kernelspec": {
      "name": "python3",
      "display_name": "Python 3"
    },
    "language_info": {
      "name": "python"
    }
  },
  "cells": [
    {
      "cell_type": "code",
      "execution_count": null,
      "metadata": {
        "id": "vINUOpeB4ucP"
      },
      "outputs": [],
      "source": []
    },
    {
      "cell_type": "markdown",
      "source": [
        "1- Create variables a = 15 and b = 4. Perform and print all arithmetic operations."
      ],
      "metadata": {
        "id": "Qi7hIqaf4xXQ"
      }
    },
    {
      "cell_type": "code",
      "source": [
        "a=15\n",
        "b= 4\n",
        "print(\"a+b=\",a+b)\n",
        "print(\"a-b=\",a-b)\n",
        "print(\"a*b=\",a*b)\n",
        "print(\"a/b=\",a/b)\n",
        "print(\"a//b=\",a//b)\n",
        "print(\"a**b\",a**b)"
      ],
      "metadata": {
        "colab": {
          "base_uri": "https://localhost:8080/"
        },
        "id": "pw0Pjm3-1-98",
        "outputId": "041d7d84-acb8-4776-9026-f1e759b729e4"
      },
      "execution_count": null,
      "outputs": [
        {
          "output_type": "stream",
          "name": "stdout",
          "text": [
            "a+b= 19\n",
            "a-b= 11\n",
            "a*b= 60\n",
            "a/b= 3.75\n",
            "a//b= 3\n",
            "a**b 50625\n"
          ]
        }
      ]
    },
    {
      "cell_type": "markdown",
      "source": [
        "2-Use comparison operators to compare a and b and print results."
      ],
      "metadata": {
        "id": "VoWJcPTo5p7L"
      }
    },
    {
      "cell_type": "code",
      "source": [
        "x= 10\n",
        "y= 8\n",
        "print(\"x == y = \", x == y)\n",
        "print(\"x != y = \", x != y)\n",
        "print(\"x > y  = \", x > y)\n",
        "print(\"x < y  = \", x < y)\n",
        "print(\"x >= y = \", x >= y)\n",
        "print(\"x <= y = \", x <= y)\n",
        "\n",
        "\n"
      ],
      "metadata": {
        "colab": {
          "base_uri": "https://localhost:8080/"
        },
        "id": "-AazAmW85yjP",
        "outputId": "b110b297-fe17-493e-ded7-ac4a04dd30b9"
      },
      "execution_count": null,
      "outputs": [
        {
          "output_type": "stream",
          "name": "stdout",
          "text": [
            "x == y =  False\n",
            "x != y =  True\n",
            "x > y  =  True\n",
            "x < y  =  False\n",
            "x >= y =  True\n",
            "x <= y =  False\n"
          ]
        }
      ]
    },
    {
      "cell_type": "markdown",
      "source": [
        "3-Create boolean variables x = True, y = False. Perform logical operations and print outcomes."
      ],
      "metadata": {
        "id": "vmWzJBkb68k3"
      }
    },
    {
      "cell_type": "code",
      "source": [
        "x=True\n",
        "y=False\n",
        "print(\"x and y = \", x and y)\n",
        "print(\"x or y  = \", x or y)\n",
        "print(\"not x   = \", not x)\n"
      ],
      "metadata": {
        "colab": {
          "base_uri": "https://localhost:8080/"
        },
        "id": "pjaR-2oZ6-1B",
        "outputId": "7d23bfb3-d998-44f4-dcf8-168e999796bd"
      },
      "execution_count": null,
      "outputs": [
        {
          "output_type": "stream",
          "name": "stdout",
          "text": [
            "x and y =  False\n",
            "x or y  =  True\n",
            "not x   =  False\n"
          ]
        }
      ]
    },
    {
      "cell_type": "markdown",
      "source": [
        "4- Use assignment operators (+=, -=, *=, etc.) on a variable and print updated values."
      ],
      "metadata": {
        "id": "AQKx3Ouz7dvL"
      }
    },
    {
      "cell_type": "code",
      "source": [
        "\n",
        "num = 10\n",
        "num += 5\n",
        "print(\"addition += 5:\", num)\n",
        "num -= 3\n",
        "print(\"subraction -= 3:\", num)\n",
        "num *= 2\n",
        "print(\"multiply *= 2:\", num)\n",
        "num/=4\n",
        "print(\"divide /= 4:\", num)\n",
        "num//=2\n",
        "print(\"floor division //=2:\",num)"
      ],
      "metadata": {
        "colab": {
          "base_uri": "https://localhost:8080/"
        },
        "id": "cojep79N7u8E",
        "outputId": "72bd1d32-d326-4743-e3df-8921d4dbc7e7"
      },
      "execution_count": null,
      "outputs": [
        {
          "output_type": "stream",
          "name": "stdout",
          "text": [
            "addition += 5: 15\n",
            "subraction -= 3: 12\n",
            "multiply *= 2: 24\n",
            "divide /= 4: 6.0\n",
            "floor division //=2: 3.0\n"
          ]
        }
      ]
    },
    {
      "cell_type": "markdown",
      "source": [
        "5-Use is and is not operators with two equal values."
      ],
      "metadata": {
        "id": "keirsowUARe1"
      }
    },
    {
      "cell_type": "code",
      "source": [
        "a=[2,3,5]\n",
        "b=[2,3,5]\n",
        "c=a\n",
        "print(\"a is c=  \",a is c)\n",
        "print(\"a is b=  \",a is b)\n",
        "print(\"a == b=  \", a == b)\n",
        "print(\"a is not b=\", a is not b)"
      ],
      "metadata": {
        "colab": {
          "base_uri": "https://localhost:8080/"
        },
        "id": "FlgVUfGuAcT8",
        "outputId": "a87204b7-b7c3-4c2a-b060-3852fad46885"
      },
      "execution_count": null,
      "outputs": [
        {
          "output_type": "stream",
          "name": "stdout",
          "text": [
            "a is c=   True\n",
            "a is b=   False\n",
            "a == b=   True\n",
            "a is not b= True\n"
          ]
        }
      ]
    },
    {
      "cell_type": "markdown",
      "source": [
        "6-Check the presence of words using in and not in operators in a string."
      ],
      "metadata": {
        "id": "EoQBQ0C9BlmV"
      }
    },
    {
      "cell_type": "code",
      "source": [
        "text = \"Python programming is fun and powerful.\"\n",
        "print(\"Python\" in text)\n",
        "print(\"Java\" in text)\n",
        "print(\"Java\" not in text)\n",
        "print(\"powerful\" not in text)"
      ],
      "metadata": {
        "colab": {
          "base_uri": "https://localhost:8080/"
        },
        "id": "OwS1997jBnox",
        "outputId": "750f6414-ee47-4d84-de63-e80f10ac8d7c"
      },
      "execution_count": null,
      "outputs": [
        {
          "output_type": "stream",
          "name": "stdout",
          "text": [
            "True\n",
            "False\n",
            "True\n",
            "False\n"
          ]
        }
      ]
    },
    {
      "cell_type": "markdown",
      "source": [
        "7-Import the keyword module and print all Python keywords"
      ],
      "metadata": {
        "id": "qyOC_zGMCqVj"
      }
    },
    {
      "cell_type": "code",
      "source": [
        "import keyword\n",
        "print(\"The list of \\keywords is : \")\n",
        "print(keyword.kwlist)\n"
      ],
      "metadata": {
        "colab": {
          "base_uri": "https://localhost:8080/"
        },
        "id": "IXvGyr1PC6mo",
        "outputId": "73783848-6a00-40a3-a754-ddf449612131"
      },
      "execution_count": null,
      "outputs": [
        {
          "output_type": "stream",
          "name": "stdout",
          "text": [
            "The list of \\keywords is : \n",
            "['False', 'None', 'True', 'and', 'as', 'assert', 'async', 'await', 'break', 'class', 'continue', 'def', 'del', 'elif', 'else', 'except', 'finally', 'for', 'from', 'global', 'if', 'import', 'in', 'is', 'lambda', 'nonlocal', 'not', 'or', 'pass', 'raise', 'return', 'try', 'while', 'with', 'yield']\n"
          ]
        }
      ]
    },
    {
      "cell_type": "markdown",
      "source": [
        "8- Declare variables name, age, height, and print their values with types."
      ],
      "metadata": {
        "id": "w9WHbnBtDdEA"
      }
    },
    {
      "cell_type": "code",
      "source": [
        "a=\"lali\"\n",
        "b=19\n",
        "c=5.3\n",
        "print(type(a),\"a=\",a)\n",
        "print (type(b),\"b=\",b)\n",
        "print(type(c),\"c=\",c)\n"
      ],
      "metadata": {
        "colab": {
          "base_uri": "https://localhost:8080/"
        },
        "id": "uQHiQ5TQRLyA",
        "outputId": "013e6022-6781-4510-d3ef-27c76fec11dc"
      },
      "execution_count": null,
      "outputs": [
        {
          "output_type": "stream",
          "name": "stdout",
          "text": [
            "<class 'str'> a= lali\n",
            "<class 'int'> b= 19\n",
            "<class 'float'> c= 5.3\n"
          ]
        }
      ]
    },
    {
      "cell_type": "markdown",
      "source": [
        "9- Write 5 valid and 3 invalid variable names (with comments)."
      ],
      "metadata": {
        "id": "U0SWeOF2FQin"
      }
    },
    {
      "cell_type": "code",
      "source": [
        "name=\"lali\" #valid variable\n",
        "age_25=25   #valid includes underscore\n",
        "_is_active=True   #valid start\n",
        "totalMarks=88    #valid camel case\n",
        "subject1=\"maths\"  #valid ends with number\n",
        "2name=\"misha\"    #invalid start\n",
        "total-marks=34   #invalid hyphen\n",
        "class=\"physics\"   #invalid \"class\" is a reserve word\n"
      ],
      "metadata": {
        "id": "0k2rplARJ_VZ"
      },
      "execution_count": null,
      "outputs": []
    },
    {
      "cell_type": "markdown",
      "source": [
        "10-Assign multiple values in one line and use type() and id() to inspect them."
      ],
      "metadata": {
        "id": "9S8yCv08L99P"
      }
    },
    {
      "cell_type": "code",
      "source": [
        "x=10; y=5.5; z=\"hello\"\n",
        "print(type(x),id(x))\n",
        "print(type(y),id(y))\n",
        "print(type(z),id(z))"
      ],
      "metadata": {
        "colab": {
          "base_uri": "https://localhost:8080/"
        },
        "id": "rV6xfUsWMDiZ",
        "outputId": "a8d3ed93-11f4-41b6-9b2e-53e3ec21b27b"
      },
      "execution_count": null,
      "outputs": [
        {
          "output_type": "stream",
          "name": "stdout",
          "text": [
            "<class 'int'> 10758024\n",
            "<class 'float'> 136708231550672\n",
            "<class 'str'> 136709611422384\n"
          ]
        }
      ]
    }
  ]
}