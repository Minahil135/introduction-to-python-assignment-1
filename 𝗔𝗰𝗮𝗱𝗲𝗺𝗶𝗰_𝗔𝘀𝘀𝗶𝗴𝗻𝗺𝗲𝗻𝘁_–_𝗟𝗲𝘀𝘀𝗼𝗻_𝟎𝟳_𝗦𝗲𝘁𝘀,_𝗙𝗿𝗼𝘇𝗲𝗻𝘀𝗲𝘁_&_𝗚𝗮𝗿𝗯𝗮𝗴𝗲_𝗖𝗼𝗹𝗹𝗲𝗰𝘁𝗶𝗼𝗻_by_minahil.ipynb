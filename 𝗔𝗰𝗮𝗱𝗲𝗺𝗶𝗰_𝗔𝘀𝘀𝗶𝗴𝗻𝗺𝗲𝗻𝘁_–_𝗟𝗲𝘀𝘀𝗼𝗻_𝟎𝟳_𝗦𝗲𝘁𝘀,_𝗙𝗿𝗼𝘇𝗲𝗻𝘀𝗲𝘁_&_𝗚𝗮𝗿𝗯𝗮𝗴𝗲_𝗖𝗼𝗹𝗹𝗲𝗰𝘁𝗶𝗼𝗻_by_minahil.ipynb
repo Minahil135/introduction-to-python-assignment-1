{
  "nbformat": 4,
  "nbformat_minor": 0,
  "metadata": {
    "colab": {
      "provenance": []
    },
    "kernelspec": {
      "name": "python3",
      "display_name": "Python 3"
    },
    "language_info": {
      "name": "python"
    }
  },
  "cells": [
    {
      "cell_type": "code",
      "source": [
        "set1={1,2,3,4,5}\n",
        "set2={4,5,6,7,8}\n",
        "my_set=set1.union(set2)\n",
        "print(my_set)\n",
        "my_set2=set1.intersection(set2)\n",
        "print(my_set2)\n",
        "set1.remove(3)\n",
        "print(set1)\n",
        "set2.add(10)\n",
        "print(set2)"
      ],
      "metadata": {
        "colab": {
          "base_uri": "https://localhost:8080/"
        },
        "id": "dvRX1PlLaiLf",
        "outputId": "dcb54475-ef15-4ad4-8053-559f402de260"
      },
      "execution_count": null,
      "outputs": [
        {
          "output_type": "stream",
          "name": "stdout",
          "text": [
            "{1, 2, 3, 4, 5, 6, 7, 8}\n",
            "{4, 5}\n",
            "{1, 2, 4, 5}\n",
            "{4, 5, 6, 7, 8, 10}\n"
          ]
        }
      ]
    },
    {
      "cell_type": "markdown",
      "source": [
        "𝗔𝗰𝗮𝗱𝗲𝗺𝗶𝗰 𝗔𝘀𝘀𝗶𝗴𝗻𝗺𝗲𝗻𝘁 – 𝗟𝗲𝘀𝘀𝗼𝗻 𝟎𝟳: 𝗦𝗲𝘁𝘀, 𝗙𝗿𝗼𝘇𝗲𝗻𝘀𝗲𝘁 & 𝗚𝗮𝗿𝗯𝗮𝗴𝗲 𝗖𝗼𝗹𝗹𝗲𝗰𝘁𝗶𝗼𝗻"
      ],
      "metadata": {
        "id": "DnTotGJLjINP"
      }
    },
    {
      "cell_type": "markdown",
      "source": [
        "1- Create a set of 5 fruits and print it."
      ],
      "metadata": {
        "id": "uM0GDzGajKOk"
      }
    },
    {
      "cell_type": "code",
      "source": [
        "set={\"apple\",\"kiwi\",\"orange\",\"cherry\",\"berry\"}\n",
        "print(set)"
      ],
      "metadata": {
        "colab": {
          "base_uri": "https://localhost:8080/"
        },
        "id": "vJ5yH7UskJ4J",
        "outputId": "94ed445c-dfb4-4a16-91f2-0a58563f42ff"
      },
      "execution_count": 5,
      "outputs": [
        {
          "output_type": "stream",
          "name": "stdout",
          "text": [
            "{'cherry', 'berry', 'apple', 'orange', 'kiwi'}\n"
          ]
        }
      ]
    },
    {
      "cell_type": "markdown",
      "source": [
        "2-Add one new fruit to your set using .add() and print the updated set."
      ],
      "metadata": {
        "id": "t3rJWkcokkLJ"
      }
    },
    {
      "cell_type": "code",
      "source": [
        "set={\"apple\",\"kiwi\",\"orange\",\"cherry\",\"berry\"}\n",
        "set.add(\"strawberry\")\n",
        "print(set)"
      ],
      "metadata": {
        "colab": {
          "base_uri": "https://localhost:8080/"
        },
        "outputId": "7e82b47b-35a9-48ee-9b57-b770ac5c0937",
        "id": "cR3aSVOFk3Ck"
      },
      "execution_count": 6,
      "outputs": [
        {
          "output_type": "stream",
          "name": "stdout",
          "text": [
            "{'cherry', 'berry', 'apple', 'orange', 'strawberry', 'kiwi'}\n"
          ]
        }
      ]
    },
    {
      "cell_type": "markdown",
      "source": [
        "3-Remove an existing fruit using .remove() (and explain if it errors when missing)."
      ],
      "metadata": {
        "id": "Ac0lj9UMlF_g"
      }
    },
    {
      "cell_type": "code",
      "source": [
        "set={\"apple\",\"kiwi\",\"orange\",\"cherry\",\"berry\",\"strawberry\"}\n",
        "set.remove(\"apple\")\n",
        "print(set)"
      ],
      "metadata": {
        "colab": {
          "base_uri": "https://localhost:8080/"
        },
        "outputId": "787157c6-02e9-4967-b61e-81a86219ac1d",
        "id": "kC-8zlIJlYxE"
      },
      "execution_count": 17,
      "outputs": [
        {
          "output_type": "stream",
          "name": "stdout",
          "text": [
            "{'cherry', 'berry', 'orange', 'strawberry', 'kiwi'}\n"
          ]
        }
      ]
    },
    {
      "cell_type": "markdown",
      "source": [
        "4-Remove another fruit using .discard() (and note the difference from .remove())."
      ],
      "metadata": {
        "id": "U2JDe2ABln2c"
      }
    },
    {
      "cell_type": "code",
      "source": [
        "set={\"strawberry\",\"kiwi\",\"orange\",\"cherry\",\"berry\"}\n",
        "set.discard(\"kiwi\")\n",
        "print(set)"
      ],
      "metadata": {
        "colab": {
          "base_uri": "https://localhost:8080/"
        },
        "id": "39Qjq7dpls9H",
        "outputId": "74eb0ede-606e-4900-b2e0-6f07413ad24b"
      },
      "execution_count": 18,
      "outputs": [
        {
          "output_type": "stream",
          "name": "stdout",
          "text": [
            "{'cherry', 'berry', 'orange', 'strawberry'}\n"
          ]
        }
      ]
    },
    {
      "cell_type": "markdown",
      "source": [
        "  5- Use .pop() to remove an arbitrary item and print the result."
      ],
      "metadata": {
        "id": "d5paWA6SmovG"
      }
    },
    {
      "cell_type": "code",
      "source": [
        "set={\"strawberry\",\"orange\",\"cherry\",\"berry\"}\n",
        "set.pop()\n",
        "print(set)"
      ],
      "metadata": {
        "colab": {
          "base_uri": "https://localhost:8080/"
        },
        "id": "zI96zSTZnDXa",
        "outputId": "1db90866-b348-447c-ef88-cf8cca0801f0"
      },
      "execution_count": 19,
      "outputs": [
        {
          "output_type": "stream",
          "name": "stdout",
          "text": [
            "{'strawberry', 'orange', 'berry'}\n"
          ]
        }
      ]
    },
    {
      "cell_type": "markdown",
      "source": [
        "6-Clear the remaining items using .clear() and show that the set is now empty."
      ],
      "metadata": {
        "id": "N8EW790pnezF"
      }
    },
    {
      "cell_type": "code",
      "source": [
        "set={\"strawberry\",\"orange\",\"berry\"}\n",
        "set.clear()\n",
        "print(set)"
      ],
      "metadata": {
        "colab": {
          "base_uri": "https://localhost:8080/"
        },
        "id": "EOiiBWQunlNS",
        "outputId": "9cfa3553-b8da-4c93-f3b5-f76b92fad96e"
      },
      "execution_count": 20,
      "outputs": [
        {
          "output_type": "stream",
          "name": "stdout",
          "text": [
            "set()\n"
          ]
        }
      ]
    },
    {
      "cell_type": "markdown",
      "source": [
        "7-Create two sets of numbers and display their union(), intersection(), difference(), symmetric_difference()."
      ],
      "metadata": {
        "id": "EMKC5tpYoQMD"
      }
    },
    {
      "cell_type": "code",
      "source": [
        "set1={1,2,3,4,5}\n",
        "set2={4,5,6,7,8}\n",
        "my_set=set1.union(set2)\n",
        "print(my_set)\n",
        "my_set=set1.intersection(set2)\n",
        "print(my_set)\n",
        "my_set=set1.difference(set2)\n",
        "print(my_set)\n",
        "my_set=set1.symmetric_difference(set2)\n",
        "print(my_set)"
      ],
      "metadata": {
        "colab": {
          "base_uri": "https://localhost:8080/"
        },
        "id": "D3-Qzh2UoWAi",
        "outputId": "0dc24759-b1c8-432e-d0d9-1cac9fafe78f"
      },
      "execution_count": 22,
      "outputs": [
        {
          "output_type": "stream",
          "name": "stdout",
          "text": [
            "{1, 2, 3, 4, 5, 6, 7, 8}\n",
            "{4, 5}\n",
            "{1, 2, 3}\n",
            "{1, 2, 3, 6, 7, 8}\n"
          ]
        }
      ]
    },
    {
      "cell_type": "markdown",
      "source": [
        "8-Check if one set is a subset or superset of another, and print results."
      ],
      "metadata": {
        "id": "t6oVMfVdoyDs"
      }
    },
    {
      "cell_type": "code",
      "source": [
        "set1={1,2,3,4,5}\n",
        "set2={1,2,3,4,5,6,7,8}\n",
        "my_set=set1.issubset(set2)\n",
        "print(my_set)\n",
        "my_set=set1.issuperset(set2)\n",
        "print(my_set)"
      ],
      "metadata": {
        "colab": {
          "base_uri": "https://localhost:8080/"
        },
        "id": "NGfmdwn4o3n1",
        "outputId": "3d40c5cf-273f-491e-b7f8-da4b730d61dc"
      },
      "execution_count": 25,
      "outputs": [
        {
          "output_type": "stream",
          "name": "stdout",
          "text": [
            "True\n",
            "False\n"
          ]
        }
      ]
    },
    {
      "cell_type": "markdown",
      "source": [
        "9-Declare a frozenset of vowels and try adding an item — observe the immutability error."
      ],
      "metadata": {
        "id": "qNabR9WmpTgx"
      }
    },
    {
      "cell_type": "code",
      "source": [
        "my_frozenset={\"a\",\"e\",\"i\",\"o\",\"u\"}\n",
        "my_frozenset.add(\"y\")\n",
        "print(my_frozenset)"
      ],
      "metadata": {
        "colab": {
          "base_uri": "https://localhost:8080/"
        },
        "id": "YWwo3FThpZWd",
        "outputId": "fd5579c3-106c-4bbc-adea-969f59563f07"
      },
      "execution_count": 28,
      "outputs": [
        {
          "output_type": "stream",
          "name": "stdout",
          "text": [
            "{'y', 'o', 'u', 'a', 'e', 'i'}\n"
          ]
        }
      ]
    },
    {
      "cell_type": "markdown",
      "source": [
        "10-Use a loop to check membership of a user-input character in the set of vowels.\n"
      ],
      "metadata": {
        "id": "ImWxKxFQqsri"
      }
    },
    {
      "cell_type": "code",
      "source": [
        "set1 = {\"a\", \"e\", \"i\", \"o\", \"u\"}\n",
        "set = input(\"Enter a character: \")\n",
        "found = False\n",
        "for vowel in set1:\n",
        "  if set == set1:\n",
        "    found = True\n",
        "if found:\n",
        "  print(f\"The character '{set}' is a vowel.\")\n",
        "else:\n",
        "  print(f\"The character '{set}' is not a vowel.\")"
      ],
      "metadata": {
        "colab": {
          "base_uri": "https://localhost:8080/"
        },
        "id": "UAkkrPiFrSFo",
        "outputId": "903b832a-3920-42bf-c42d-8c048ca823ba"
      },
      "execution_count": 32,
      "outputs": [
        {
          "output_type": "stream",
          "name": "stdout",
          "text": [
            "Enter a character: y\n",
            "The character 'y' is not a vowel.\n"
          ]
        }
      ]
    }
  ]
}