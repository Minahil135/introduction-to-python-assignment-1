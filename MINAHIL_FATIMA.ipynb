{
  "nbformat": 4,
  "nbformat_minor": 0,
  "metadata": {
    "colab": {
      "provenance": []
    },
    "kernelspec": {
      "name": "python3",
      "display_name": "Python 3"
    },
    "language_info": {
      "name": "python"
    }
  },
  "cells": [
    {
      "cell_type": "markdown",
      "source": [
        "QUESTION 1: Print your fav color."
      ],
      "metadata": {
        "id": "79qNrJgaOAK_"
      }
    },
    {
      "cell_type": "code",
      "source": [
        "print (\"red\")"
      ],
      "metadata": {
        "colab": {
          "base_uri": "https://localhost:8080/"
        },
        "id": "2CULBM7YOOv7",
        "outputId": "1bace0e8-2d94-48a9-f700-68219cfe38d6"
      },
      "execution_count": null,
      "outputs": [
        {
          "output_type": "stream",
          "name": "stdout",
          "text": [
            "red\n"
          ]
        }
      ]
    },
    {
      "cell_type": "markdown",
      "source": [
        "Question 2:create a variable for your birth year and print it."
      ],
      "metadata": {
        "id": "8es0cyDDOb_y"
      }
    },
    {
      "cell_type": "code",
      "source": [
        "a=2006\n",
        "print(a)"
      ],
      "metadata": {
        "colab": {
          "base_uri": "https://localhost:8080/"
        },
        "id": "O1BBGKgMrx15",
        "outputId": "2fe5ed51-dab4-4ea2-ab2a-96a324f92080"
      },
      "execution_count": null,
      "outputs": [
        {
          "output_type": "stream",
          "name": "stdout",
          "text": [
            "2006\n"
          ]
        }
      ]
    },
    {
      "cell_type": "markdown",
      "source": [
        "QUESTION 3:Store your fav fruit in a variable and print it."
      ],
      "metadata": {
        "id": "F-kzXlNDtF2Q"
      }
    },
    {
      "cell_type": "code",
      "source": [
        "x=\"mango\"\n",
        "print(x)"
      ],
      "metadata": {
        "colab": {
          "base_uri": "https://localhost:8080/"
        },
        "id": "pKzwCIySuE1H",
        "outputId": "d12d7741-4eb7-4390-d676-28d80a19c932"
      },
      "execution_count": null,
      "outputs": [
        {
          "output_type": "stream",
          "name": "stdout",
          "text": [
            "mango\n"
          ]
        }
      ]
    },
    {
      "cell_type": "markdown",
      "source": [
        "QUESTION 4:Add two numbers using variables and print the result."
      ],
      "metadata": {
        "id": "Mb1A9gGOuYlA"
      }
    },
    {
      "cell_type": "code",
      "source": [
        "num1=5\n",
        "num2=5\n",
        "result=num1+num2\n",
        "print(result)"
      ],
      "metadata": {
        "colab": {
          "base_uri": "https://localhost:8080/"
        },
        "id": "LLINR3sDu-Yg",
        "outputId": "127aa9c6-bd4d-4a65-c3f0-1d637bd96442"
      },
      "execution_count": null,
      "outputs": [
        {
          "output_type": "stream",
          "name": "stdout",
          "text": [
            "10\n"
          ]
        }
      ]
    },
    {
      "cell_type": "markdown",
      "source": [
        "QUESTION 5:store your hobby in a variable and print a message about it."
      ],
      "metadata": {
        "id": "wcOQSITMvYUp"
      }
    },
    {
      "cell_type": "code",
      "source": [
        "a=\"painting\"\n",
        "print(\"my favourite hobby is\", a)"
      ],
      "metadata": {
        "colab": {
          "base_uri": "https://localhost:8080/"
        },
        "id": "YILLQ3jnvm5p",
        "outputId": "66ac9292-ead4-457a-cc96-188cd320d18a"
      },
      "execution_count": null,
      "outputs": [
        {
          "output_type": "stream",
          "name": "stdout",
          "text": [
            "my favourite hobby is painting\n"
          ]
        }
      ]
    },
    {
      "cell_type": "markdown",
      "source": [
        "QUESTION 6: Declare a variable for your country and print where are you from."
      ],
      "metadata": {
        "id": "H26-akomwUE5"
      }
    },
    {
      "cell_type": "code",
      "source": [
        "x=\"pakistan\"\n",
        "print(\"i am from \"+ x)"
      ],
      "metadata": {
        "colab": {
          "base_uri": "https://localhost:8080/"
        },
        "id": "AKIhn8wgwjhG",
        "outputId": "f8b10db9-a3d2-46ad-ded8-d883e53f62f4"
      },
      "execution_count": null,
      "outputs": [
        {
          "output_type": "stream",
          "name": "stdout",
          "text": [
            "i am from pakistan\n"
          ]
        }
      ]
    },
    {
      "cell_type": "markdown",
      "source": [
        "QUESTION 7: Use multiple variables (name,favorite color,hobby) and print a full sentence."
      ],
      "metadata": {
        "id": "inRvDUwwxycr"
      }
    },
    {
      "cell_type": "code",
      "source": [
        "name= \"minahil\"\n",
        "color=\"red\"\n",
        "hobby=\"painting\"\n",
        "print (\"my name is \" + name , \"my fav color is \" + color,\"and i love \" + hobby )"
      ],
      "metadata": {
        "colab": {
          "base_uri": "https://localhost:8080/"
        },
        "id": "ItfJ3etmyJey",
        "outputId": "e0193a3b-400f-4763-fb1c-56f767d784f6"
      },
      "execution_count": null,
      "outputs": [
        {
          "output_type": "stream",
          "name": "stdout",
          "text": [
            "my name is minahil my fav color is red and i love painting\n"
          ]
        }
      ]
    },
    {
      "cell_type": "markdown",
      "source": [
        "QUESTION 8: perform substraction between two numbers and print result."
      ],
      "metadata": {
        "id": "P0Lo4jAEzx7F"
      }
    },
    {
      "cell_type": "code",
      "source": [
        "x=10\n",
        "y=5\n",
        "difference=x-y\n",
        "print(difference)"
      ],
      "metadata": {
        "colab": {
          "base_uri": "https://localhost:8080/"
        },
        "id": "oZ-nwRyc0Oz4",
        "outputId": "bcd6a8fd-02ed-4b02-a812-6800db19aeb9"
      },
      "execution_count": null,
      "outputs": [
        {
          "output_type": "stream",
          "name": "stdout",
          "text": [
            "5\n"
          ]
        }
      ]
    },
    {
      "cell_type": "markdown",
      "source": [
        "QUESTION 9: STORE A BOOK TITLE IN VARIABLE AND PRINT IT."
      ],
      "metadata": {
        "id": "6Ff2IbQp0f2k"
      }
    },
    {
      "cell_type": "code",
      "source": [
        "book=\"the art of not overthinking\"\n",
        "print(book)"
      ],
      "metadata": {
        "colab": {
          "base_uri": "https://localhost:8080/"
        },
        "id": "NfX0vsJK0sdM",
        "outputId": "9c0a4137-a6ca-40f2-9c6b-bdd6bab7c0f1"
      },
      "execution_count": null,
      "outputs": [
        {
          "output_type": "stream",
          "name": "stdout",
          "text": [
            "the art of not overthinking\n"
          ]
        }
      ]
    },
    {
      "cell_type": "markdown",
      "source": [
        "QUESTION 10: CREATE A VARIABLE FOR YOUR FAV MOVIE AND PRINT IT."
      ],
      "metadata": {
        "id": "yMcHCzUQ097e"
      }
    },
    {
      "cell_type": "code",
      "source": [
        "A=\"FINAL DESTINATION\"\n",
        "print(A)"
      ],
      "metadata": {
        "colab": {
          "base_uri": "https://localhost:8080/"
        },
        "id": "YzZ4jvy-1chs",
        "outputId": "1bde75a3-fb58-4a82-a99d-22e0ea9b7dff"
      },
      "execution_count": null,
      "outputs": [
        {
          "output_type": "stream",
          "name": "stdout",
          "text": [
            "FINAL DESTINATION\n"
          ]
        }
      ]
    },
    {
      "cell_type": "code",
      "source": [
        "a=245\n",
        "print(a)"
      ],
      "metadata": {
        "colab": {
          "base_uri": "https://localhost:8080/"
        },
        "id": "Oync_uZY_Obf",
        "outputId": "3f1e1cf3-816f-4e63-b1ba-df849ca00d7c"
      },
      "execution_count": null,
      "outputs": [
        {
          "output_type": "stream",
          "name": "stdout",
          "text": [
            "245\n"
          ]
        }
      ]
    },
    {
      "cell_type": "markdown",
      "source": [
        "                                         ASSIGNMENT: DATA TYPES\n",
        "1: Create variables of types: 𝐬𝐭𝐫𝐢𝐧𝐠, 𝐢𝐧𝐭𝐞𝐠𝐞𝐫, 𝐟𝐥𝐨𝐚𝐭, and 𝐛𝐨𝐨𝐥𝐞𝐚𝐧. Print their 𝐯𝐚𝐥𝐮𝐞𝐬 and 𝐭𝐲𝐩𝐞𝐬."
      ],
      "metadata": {
        "id": "b_a31UbyQZ-M"
      }
    },
    {
      "cell_type": "code",
      "source": [
        "a=\"HELLO PYTHON\"\n",
        "b= 45\n",
        "c=45.5\n",
        "d= True\n",
        "print(type(a),\"a=\",a)\n",
        "print (type(b),\"b=\",b)\n",
        "print(type(c),\"c=\",c)\n",
        "print(type(d),\"d=\",d)\n"
      ],
      "metadata": {
        "colab": {
          "base_uri": "https://localhost:8080/"
        },
        "id": "uQHiQ5TQRLyA",
        "outputId": "a1437023-787a-4915-f924-4d324a5f1f8f"
      },
      "execution_count": null,
      "outputs": [
        {
          "output_type": "stream",
          "name": "stdout",
          "text": [
            "<class 'str'> a= HELLO PYTHON\n",
            "<class 'int'> b= 45\n",
            "<class 'float'> c= 45.5\n",
            "<class 'bool'> d= True\n"
          ]
        }
      ]
    },
    {
      "cell_type": "markdown",
      "source": [
        "2:Make a 𝐥𝐢𝐬𝐭 𝐨𝐟 𝟓 𝐟𝐫𝐮𝐢𝐭𝐬 and print."
      ],
      "metadata": {
        "id": "-zUpOOR5SUAm"
      }
    },
    {
      "cell_type": "code",
      "source": [
        "list=[\"mango,apple,cherry,peach\"]\n",
        "print(type(list),\"list=\",list)"
      ],
      "metadata": {
        "colab": {
          "base_uri": "https://localhost:8080/"
        },
        "id": "1l46yt1KSZaW",
        "outputId": "8f96b521-f23f-4e52-8187-45f18aa2891d"
      },
      "execution_count": null,
      "outputs": [
        {
          "output_type": "stream",
          "name": "stdout",
          "text": [
            "<class 'list'> list= ['mango,apple,cherry,peach']\n"
          ]
        }
      ]
    },
    {
      "cell_type": "markdown",
      "source": [
        "3:Create a 𝐭𝐮𝐩𝐥𝐞 𝐨𝐟 𝟑 𝐟𝐚𝐯𝐨𝐫𝐢𝐭𝐞 𝐧𝐮𝐦𝐛𝐞𝐫𝐬 and print."
      ],
      "metadata": {
        "id": "XTepOwHlSuPY"
      }
    },
    {
      "cell_type": "code",
      "source": [
        "tuple=(1,3,5)\n",
        "print(type(tuple),\"tuple=\",tuple)"
      ],
      "metadata": {
        "colab": {
          "base_uri": "https://localhost:8080/"
        },
        "id": "6aB4axgKS6aq",
        "outputId": "9344e375-ed97-45fd-e8a5-8401a2f12557"
      },
      "execution_count": null,
      "outputs": [
        {
          "output_type": "stream",
          "name": "stdout",
          "text": [
            "<class 'tuple'> tuple= (1, 3, 5)\n"
          ]
        }
      ]
    },
    {
      "cell_type": "markdown",
      "source": [
        "4:Define a 𝐝𝐢𝐜𝐭𝐢𝐨𝐧𝐚𝐫𝐲 with keys: name, age, city – and print 𝐚𝐥𝐥 𝐤𝐞𝐲-𝐯𝐚𝐥𝐮𝐞 𝐩𝐚𝐢𝐫𝐬."
      ],
      "metadata": {
        "id": "kDtTjIlaTQCI"
      }
    },
    {
      "cell_type": "code",
      "source": [
        "dict={\"name\":\"minahil\",\"age\":19,\"language\":\"urdu\"}\n",
        "print(type(dict),\"dict=\",dict)"
      ],
      "metadata": {
        "colab": {
          "base_uri": "https://localhost:8080/"
        },
        "id": "zh5LIwkBTRnr",
        "outputId": "5034066c-13c7-4f04-ffc1-1442d4a97bb0"
      },
      "execution_count": null,
      "outputs": [
        {
          "output_type": "stream",
          "name": "stdout",
          "text": [
            "<class 'dict'> dict= {'name': 'minahil', 'age': 19, 'language': 'urdu'}\n"
          ]
        }
      ]
    },
    {
      "cell_type": "markdown",
      "source": [
        "5:Create a 𝐬𝐞𝐭 𝐨𝐟 𝐮𝐧𝐢𝐪𝐮𝐞 𝐡𝐨𝐛𝐛𝐢𝐞𝐬."
      ],
      "metadata": {
        "id": "TeKo4UWtVxyk"
      }
    },
    {
      "cell_type": "code",
      "source": [
        "a={\"painting,cooking,photography\"}\n",
        "print(type(a),\"a=\",a)"
      ],
      "metadata": {
        "colab": {
          "base_uri": "https://localhost:8080/"
        },
        "id": "dnv23QppV64B",
        "outputId": "716236de-42aa-4d40-c5e6-2deca2fc79a9"
      },
      "execution_count": null,
      "outputs": [
        {
          "output_type": "stream",
          "name": "stdout",
          "text": [
            "<class 'set'> a= {'painting,cooking,photography'}\n"
          ]
        }
      ]
    },
    {
      "cell_type": "markdown",
      "source": [
        "6:Make a 𝐥𝐢𝐬𝐭 𝐨𝐟 𝟓 𝐬𝐭𝐮𝐝𝐞𝐧𝐭 𝐧𝐚𝐦𝐞𝐬 and print"
      ],
      "metadata": {
        "id": "fE5lAFo3WlPq"
      }
    },
    {
      "cell_type": "code",
      "source": [
        "list=[\"ali,affan,ahmed,ahsan,faisal\"]\n",
        "print(\"list=\",list)\n"
      ],
      "metadata": {
        "colab": {
          "base_uri": "https://localhost:8080/"
        },
        "id": "MezHT3VtXXP-",
        "outputId": "cf9f6765-7e00-4711-fbfe-7b50975ea78b"
      },
      "execution_count": null,
      "outputs": [
        {
          "output_type": "stream",
          "name": "stdout",
          "text": [
            "list= ['ali,affan,ahmed,ahsan,faisal']\n"
          ]
        }
      ]
    },
    {
      "cell_type": "markdown",
      "source": [
        "7:Create a 𝐝𝐢𝐜𝐭𝐢𝐨𝐧𝐚𝐫𝐲 of 3 programming languages with their creators and print them."
      ],
      "metadata": {
        "id": "Emz7wXrxX0Gb"
      }
    },
    {
      "cell_type": "code",
      "source": [
        "languages={\"python\":\"guido van rossum\",\"java\":\"james gosling\",\"c\":\"dennis ritchie\"}\n",
        "print(type(languages),\"languages=\",languages)"
      ],
      "metadata": {
        "colab": {
          "base_uri": "https://localhost:8080/"
        },
        "id": "whjsX61tX4ic",
        "outputId": "0af63dce-8883-4e95-f469-f7c422cee59a"
      },
      "execution_count": null,
      "outputs": [
        {
          "output_type": "stream",
          "name": "stdout",
          "text": [
            "<class 'dict'> languages= {'python': 'guido van rossum', 'java': 'james gosling', 'c': 'dennis ritchie'}\n"
          ]
        }
      ]
    },
    {
      "cell_type": "markdown",
      "source": [
        "8: Store 3 𝐟𝐥𝐨𝐚𝐭 numbers and calculate their 𝐚𝐯𝐞𝐫𝐚𝐠e"
      ],
      "metadata": {
        "id": "OcpmXDD2Zjiz"
      }
    },
    {
      "cell_type": "code",
      "source": [
        "a=5.6\n",
        "b=6.5\n",
        "c=7.5\n",
        "average=a+b+c/3\n",
        "print(average)"
      ],
      "metadata": {
        "colab": {
          "base_uri": "https://localhost:8080/"
        },
        "id": "9TMzrWIeZnl1",
        "outputId": "79a8b017-ff78-4c61-e75a-c360e3d5d101"
      },
      "execution_count": null,
      "outputs": [
        {
          "output_type": "stream",
          "name": "stdout",
          "text": [
            "14.6\n"
          ]
        }
      ]
    },
    {
      "cell_type": "markdown",
      "source": [
        "9: Create a 𝐭𝐮𝐩𝐥𝐞 𝐨𝐟 𝟒 𝐜𝐢𝐭𝐢𝐞𝐬."
      ],
      "metadata": {
        "id": "i5FuzrKcaduD"
      }
    },
    {
      "cell_type": "code",
      "source": [
        "tuple=(\"LAHORE\",\"KARACHI\",\"SIALKOT\",\"GUJRANWALA\")\n",
        "print(type(tuple),\"tuple=\",tuple)"
      ],
      "metadata": {
        "colab": {
          "base_uri": "https://localhost:8080/"
        },
        "id": "Bu7PF8cCafxa",
        "outputId": "962b4229-85ed-46ba-d46a-8cc27fb512ad"
      },
      "execution_count": null,
      "outputs": [
        {
          "output_type": "stream",
          "name": "stdout",
          "text": [
            "<class 'tuple'> tuple= ('LAHORE', 'KARACHI', 'SIALKOT', 'GUJRANWALA')\n"
          ]
        }
      ]
    },
    {
      "cell_type": "markdown",
      "source": [
        "10:Make a 𝐬𝐞𝐭 𝐨𝐟 𝐯𝐨𝐰𝐞𝐥𝐬 in a string and print"
      ],
      "metadata": {
        "id": "JZfxgUqUcEgH"
      }
    },
    {
      "cell_type": "code",
      "source": [
        "B={\"a,e,i,o,u\"}\n",
        "print(type(B),\"B=\",B)"
      ],
      "metadata": {
        "colab": {
          "base_uri": "https://localhost:8080/"
        },
        "id": "MVzPG8AVcLOF",
        "outputId": "0d71da62-765c-4c7b-a727-cefbdfb13fa5"
      },
      "execution_count": null,
      "outputs": [
        {
          "output_type": "stream",
          "name": "stdout",
          "text": [
            "<class 'set'> B= {'a,e,i,o,u'}\n"
          ]
        }
      ]
    },
    {
      "cell_type": "code",
      "source": [
        "a=10\n",
        "b= 6\n",
        "print(\"a+b=\",a+b)\n",
        "print(\"a-b=\",a-b)\n",
        "print(\"a*b=\",a*b)\n",
        "print(\"a/b=\",a/b)\n",
        "print(\"a//b=\",a//b)\n",
        "print(\"a**b\",a**b)"
      ],
      "metadata": {
        "colab": {
          "base_uri": "https://localhost:8080/"
        },
        "id": "pw0Pjm3-1-98",
        "outputId": "43741e75-fa10-465e-984f-7f22daa2f09a"
      },
      "execution_count": null,
      "outputs": [
        {
          "output_type": "stream",
          "name": "stdout",
          "text": [
            "a+b= 16\n",
            "a-b= 4\n",
            "a*b= 60\n",
            "a/b= 1.6666666666666667\n",
            "a//b= 1\n",
            "a**b 1000000\n"
          ]
        }
      ]
    },
    {
      "cell_type": "code",
      "source": [
        "# Sum numbers from 1 to 100\n",
        "total: int = 0\n",
        "for i in range(1, 201):\n",
        "    total += i\n",
        "print(\"Sum of numbers from 1 to 200:\", total)"
      ],
      "metadata": {
        "colab": {
          "base_uri": "https://localhost:8080/"
        },
        "id": "WoCMtfLefeo-",
        "outputId": "f5cac9bd-a552-4cc2-e271-4e697c408769"
      },
      "execution_count": null,
      "outputs": [
        {
          "output_type": "stream",
          "name": "stdout",
          "text": [
            "Sum of numbers from 1 to 200: 20100\n"
          ]
        }
      ]
    }
  ]
}