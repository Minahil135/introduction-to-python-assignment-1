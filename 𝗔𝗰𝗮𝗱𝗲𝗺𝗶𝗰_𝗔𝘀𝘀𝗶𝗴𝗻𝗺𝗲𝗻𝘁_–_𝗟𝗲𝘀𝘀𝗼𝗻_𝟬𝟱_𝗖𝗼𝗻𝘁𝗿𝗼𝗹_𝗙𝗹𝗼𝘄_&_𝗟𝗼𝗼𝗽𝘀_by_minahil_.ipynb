{
  "nbformat": 4,
  "nbformat_minor": 0,
  "metadata": {
    "colab": {
      "provenance": []
    },
    "kernelspec": {
      "name": "python3",
      "display_name": "Python 3"
    },
    "language_info": {
      "name": "python"
    }
  },
  "cells": [
    {
      "cell_type": "code",
      "execution_count": null,
      "metadata": {
        "id": "xIYBwsaTlXnY"
      },
      "outputs": [],
      "source": []
    },
    {
      "cell_type": "markdown",
      "source": [
        "1-Write a program to check if a number is positive, negative, or zero"
      ],
      "metadata": {
        "id": "CQrLjbsolmFv"
      }
    },
    {
      "cell_type": "code",
      "source": [
        "num = 10\n",
        "if num > 0:\n",
        "    print(\"Positive number\")\n",
        "elif num == 0:\n",
        "    print(\"Zero\")\n",
        "else:\n",
        "    print(\"Negative number\")"
      ],
      "metadata": {
        "colab": {
          "base_uri": "https://localhost:8080/"
        },
        "id": "-toBeVfhmLPO",
        "outputId": "31ed3fcf-264d-49ce-ee12-67c46685c5d6"
      },
      "execution_count": null,
      "outputs": [
        {
          "output_type": "stream",
          "name": "stdout",
          "text": [
            "Positive number\n"
          ]
        }
      ]
    },
    {
      "cell_type": "markdown",
      "source": [
        "2- Input a number and print whether it is even or odd"
      ],
      "metadata": {
        "id": "1BQFWWk9mlgR"
      }
    },
    {
      "cell_type": "code",
      "source": [
        "num = 8\n",
        "if num % 2 == 0:\n",
        "    print(\"Even number\")\n",
        "else:\n",
        "    print(\"Odd number\")"
      ],
      "metadata": {
        "colab": {
          "base_uri": "https://localhost:8080/"
        },
        "id": "c807JW6YnCty",
        "outputId": "cc8d7d79-dc0b-457f-a2d0-98e472fdfda7"
      },
      "execution_count": null,
      "outputs": [
        {
          "output_type": "stream",
          "name": "stdout",
          "text": [
            "Even number\n"
          ]
        }
      ]
    },
    {
      "cell_type": "markdown",
      "source": [
        "3-Ask age and print if person is eligible to vote"
      ],
      "metadata": {
        "id": "pwZjIl15nOIh"
      }
    },
    {
      "cell_type": "code",
      "source": [
        "age=19\n",
        "if age>=18:\n",
        "    print(\"Eligible to vote\")\n",
        "else:\n",
        "    print(\"Not eligible to vote\")"
      ],
      "metadata": {
        "colab": {
          "base_uri": "https://localhost:8080/"
        },
        "id": "5bv9a0fkniw6",
        "outputId": "453a2c64-d8f5-4ec4-b73e-1cfefa9f74f4"
      },
      "execution_count": null,
      "outputs": [
        {
          "output_type": "stream",
          "name": "stdout",
          "text": [
            "Eligible to vote\n"
          ]
        }
      ]
    },
    {
      "cell_type": "markdown",
      "source": [
        "4-Check if a number is divisible by 3, 5, or both"
      ],
      "metadata": {
        "id": "OmQnoibznv0D"
      }
    },
    {
      "cell_type": "code",
      "source": [
        "num=15\n",
        "if num%3==0 and num%5==0:\n",
        "    print(\"Divisible by both 3 and 5\")\n",
        "else:\n",
        "     print(\"Not divisible by both 3 and 5\")"
      ],
      "metadata": {
        "colab": {
          "base_uri": "https://localhost:8080/"
        },
        "id": "E1CzAFC4nyUR",
        "outputId": "6d6abb85-c7f6-45a7-deb8-93e46fc4fa31"
      },
      "execution_count": null,
      "outputs": [
        {
          "output_type": "stream",
          "name": "stdout",
          "text": [
            "Divisible by both 3 and 5\n"
          ]
        }
      ]
    },
    {
      "cell_type": "markdown",
      "source": [
        "5- Input marks and print grade using if-elif-else"
      ],
      "metadata": {
        "id": "Aat5-AP9oY9R"
      }
    },
    {
      "cell_type": "code",
      "source": [
        "marks=54\n",
        "if marks>=90:\n",
        "    print(\"Grade A\")\n",
        "elif marks>=80:\n",
        "    print(\"Grade B\")\n",
        "elif marks>=70:\n",
        "    print(\"Grade C\")\n",
        "elif marks>=60:\n",
        "    print(\"Grade D\")\n",
        "else:\n",
        "    print(\"Grade F\")"
      ],
      "metadata": {
        "colab": {
          "base_uri": "https://localhost:8080/"
        },
        "id": "-BvDG8yiofcC",
        "outputId": "0de4e1e4-54c9-4cf7-e35c-ddcb1a8af60c"
      },
      "execution_count": null,
      "outputs": [
        {
          "output_type": "stream",
          "name": "stdout",
          "text": [
            "Grade F\n"
          ]
        }
      ]
    },
    {
      "cell_type": "markdown",
      "source": [
        "6-Print numbers from 1 to 10 using a loop"
      ],
      "metadata": {
        "id": "JRD-69pjowkS"
      }
    },
    {
      "cell_type": "code",
      "source": [
        "for i in range(1,11):\n",
        "    print(i)"
      ],
      "metadata": {
        "colab": {
          "base_uri": "https://localhost:8080/"
        },
        "id": "fhloFUTYpOwC",
        "outputId": "b534de03-2dd6-4965-8050-7fe45b5338fb"
      },
      "execution_count": null,
      "outputs": [
        {
          "output_type": "stream",
          "name": "stdout",
          "text": [
            "1\n",
            "2\n",
            "3\n",
            "4\n",
            "5\n",
            "6\n",
            "7\n",
            "8\n",
            "9\n",
            "10\n"
          ]
        }
      ]
    },
    {
      "cell_type": "markdown",
      "source": [
        "7-Use a loop to print all even numbers between 1 and 20"
      ],
      "metadata": {
        "id": "GgErBGEepYOF"
      }
    },
    {
      "cell_type": "code",
      "source": [
        "for i in range(2,20,2):\n",
        "  print(i)"
      ],
      "metadata": {
        "colab": {
          "base_uri": "https://localhost:8080/"
        },
        "id": "JeGf_1rWqAaY",
        "outputId": "efa2f936-15dd-4cc6-e9cd-cfbaa755625d"
      },
      "execution_count": null,
      "outputs": [
        {
          "output_type": "stream",
          "name": "stdout",
          "text": [
            "2\n",
            "4\n",
            "6\n",
            "8\n",
            "10\n",
            "12\n",
            "14\n",
            "16\n",
            "18\n"
          ]
        }
      ]
    },
    {
      "cell_type": "markdown",
      "source": [
        "8-print the multiplication table of 6"
      ],
      "metadata": {
        "id": "9S3pMXYcqclq"
      }
    },
    {
      "cell_type": "code",
      "source": [
        "num=6\n",
        "for i in range(1,11):\n",
        "    print(num,\"*\",i,\"=\",num*i)"
      ],
      "metadata": {
        "colab": {
          "base_uri": "https://localhost:8080/"
        },
        "id": "MS-hD8Ovqk7O",
        "outputId": "dea9feec-5e4f-40a0-8a4c-296f45e90f31"
      },
      "execution_count": null,
      "outputs": [
        {
          "output_type": "stream",
          "name": "stdout",
          "text": [
            "6 * 1 = 6\n",
            "6 * 2 = 12\n",
            "6 * 3 = 18\n",
            "6 * 4 = 24\n",
            "6 * 5 = 30\n",
            "6 * 6 = 36\n",
            "6 * 7 = 42\n",
            "6 * 8 = 48\n",
            "6 * 9 = 54\n",
            "6 * 10 = 60\n"
          ]
        }
      ]
    },
    {
      "cell_type": "markdown",
      "source": [
        "9-Ask for a word and print each letter on a new line"
      ],
      "metadata": {
        "id": "HazVU_42qw2G"
      }
    },
    {
      "cell_type": "code",
      "source": [
        "word=\"aesthetic\"\n",
        "for i in word:\n",
        "    print(i)"
      ],
      "metadata": {
        "colab": {
          "base_uri": "https://localhost:8080/"
        },
        "id": "1sX1kOl5q3LU",
        "outputId": "2694a2bc-d4ce-426e-babe-d17c81008492"
      },
      "execution_count": null,
      "outputs": [
        {
          "output_type": "stream",
          "name": "stdout",
          "text": [
            "a\n",
            "e\n",
            "s\n",
            "t\n",
            "h\n",
            "e\n",
            "t\n",
            "i\n",
            "c\n"
          ]
        }
      ]
    },
    {
      "cell_type": "markdown",
      "source": [
        "10-Count how many vowels are in the word “education”"
      ],
      "metadata": {
        "id": "LX2jNLmprJ8F"
      }
    },
    {
      "cell_type": "code",
      "source": [
        "vowels=\"a,e,i,o,u\"\n",
        "word=\"education\"\n",
        "for i in word:\n",
        "    if i in vowels:\n",
        "        print(i)"
      ],
      "metadata": {
        "colab": {
          "base_uri": "https://localhost:8080/"
        },
        "id": "KAAquYYKrNqG",
        "outputId": "4348d3ab-5694-47a6-d29c-5248b38fa0e7"
      },
      "execution_count": null,
      "outputs": [
        {
          "output_type": "stream",
          "name": "stdout",
          "text": [
            "e\n",
            "u\n",
            "a\n",
            "i\n",
            "o\n"
          ]
        }
      ]
    }
  ]
}